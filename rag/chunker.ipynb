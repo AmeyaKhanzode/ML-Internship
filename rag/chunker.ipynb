{
 "cells": [
  {
   "cell_type": "code",
   "execution_count": 1,
   "id": "aa78d202",
   "metadata": {},
   "outputs": [],
   "source": [
    "from langchain.document_loaders import PyMuPDFLoader\n",
    "from langchain.text_splitter import RecursiveCharacterTextSplitter\n",
    "import json\n",
    "\n",
    "FILE = \"BRD- Amazon RDS to Snowflake Data Migration with DBT.pdf\""
   ]
  },
  {
   "cell_type": "code",
   "execution_count": 2,
   "id": "6e54c05c",
   "metadata": {},
   "outputs": [],
   "source": [
    "def split_doc_to_chunks(file):\n",
    "    loader = PyMuPDFLoader(file)\n",
    "    doc = loader.load()\n",
    "\n",
    "    splitter = RecursiveCharacterTextSplitter(chunk_size = 500, chunk_overlap = 50)\n",
    "    chunks = splitter.split_documents(doc)\n",
    "\n",
    "    data = []\n",
    "    for i, chunk in enumerate(chunks):\n",
    "        segment_data = {\"page_no\" : chunk.metadata[\"page\"], \"chunk_number\" : i, \"page_content\" : chunk.page_content}\n",
    "        data.append(segment_data)\n",
    "\n",
    "    return data"
   ]
  },
  {
   "cell_type": "code",
   "execution_count": 3,
   "id": "2ec99d96",
   "metadata": {},
   "outputs": [],
   "source": [
    "def save_chunks_to_file():\n",
    "    data = split_doc_to_chunks(FILE)\n",
    "    file = open(f\"chunk_files/{FILE}_chunks.txt\", \"w\")\n",
    "    json.dump(data, file, indent = 2)\n",
    "    file.close()"
   ]
  },
  {
   "cell_type": "code",
   "execution_count": 4,
   "id": "8a06ffb8",
   "metadata": {},
   "outputs": [],
   "source": [
    "save_chunks_to_file()"
   ]
  }
 ],
 "metadata": {
  "kernelspec": {
   "display_name": "Python 3",
   "language": "python",
   "name": "python3"
  },
  "language_info": {
   "codemirror_mode": {
    "name": "ipython",
    "version": 3
   },
   "file_extension": ".py",
   "mimetype": "text/x-python",
   "name": "python",
   "nbconvert_exporter": "python",
   "pygments_lexer": "ipython3",
   "version": "3.12.6"
  }
 },
 "nbformat": 4,
 "nbformat_minor": 5
}
