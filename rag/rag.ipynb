{
 "cells": [
  {
   "cell_type": "code",
   "execution_count": 1,
   "id": "aa78d202",
   "metadata": {},
   "outputs": [],
   "source": [
    "from langchain.document_loaders import PyMuPDFLoader\n",
    "from langchain.text_splitter import RecursiveCharacterTextSplitter\n",
    "import json\n",
    "from docx import Document\n",
    "import os\n",
    "\n",
    "# file = file.split(\"/\")\n",
    "# if (len(file) > 1):\n",
    "#     FILE_NAME = file[-1]"
   ]
  },
  {
   "cell_type": "code",
   "execution_count": 2,
   "id": "6e54c05c",
   "metadata": {},
   "outputs": [],
   "source": [
    "# splitting file into chunks\n",
    "def split_pdf_to_chunks(file):\n",
    "    loader = PyMuPDFLoader(file)\n",
    "    doc = loader.load()\n",
    "\n",
    "    splitter = RecursiveCharacterTextSplitter(chunk_size = 1000, chunk_overlap = 200)\n",
    "    chunks = splitter.split_documents(doc)\n",
    "\n",
    "    data = []\n",
    "    for i, chunk in enumerate(chunks):\n",
    "        segment_data = {\"page_no\" : chunk.metadata[\"page\"], \"chunk_number\" : i, \"chunk_content\" : chunk.page_content}\n",
    "        data.append(segment_data)\n",
    "\n",
    "    return data\n",
    "\n",
    "def split_docx_to_chunks(file):\n",
    "    doc = Document(file)\n",
    "    text = '\\n'.join([para.text for para in doc.paragraphs])\n",
    "\n",
    "    splitter = RecursiveCharacterTextSplitter(chunk_size = 500, chunk_overlap = 50)\n",
    "    chunks = splitter.split_text(text)\n",
    "\n",
    "    data = []\n",
    "    for i, chunk in enumerate(chunks):\n",
    "        segment_data = {\n",
    "            \"chunk_number\": i,\n",
    "            \"chunk_content\": chunk\n",
    "        }\n",
    "        data.append(segment_data)\n",
    "    return data"
   ]
  },
  {
   "cell_type": "code",
   "execution_count": 3,
   "id": "2ec99d96",
   "metadata": {},
   "outputs": [],
   "source": [
    "# optional\n",
    "def save_chunks_to_file(file, file_name):\n",
    "    if (file.endswith(\".pdf\")):\n",
    "        data = split_pdf_to_chunks(file)\n",
    "    else:\n",
    "        data = split_docx_to_chunks(file)\n",
    "    if data:\n",
    "        write_file = open(f\"chunk_files/{file_name}_chunks.txt\", \"w\")\n",
    "        json.dump(data, write_file, indent = 2)\n",
    "        write_file.close()"
   ]
  },
  {
   "cell_type": "code",
   "execution_count": 4,
   "id": "eced94da",
   "metadata": {},
   "outputs": [],
   "source": [
    "def get_chunks(file):\n",
    "    if (file.endswith(\".pdf\")):\n",
    "        data = split_pdf_to_chunks(file)\n",
    "    elif (file.endswith(\".docx\")):\n",
    "        data = split_docx_to_chunks(file)\n",
    "    else:\n",
    "        print(\"Not a '.docx' or '.pdf' file.\")\n",
    "    chunks = [i[\"chunk_content\"] for i in data]\n",
    "\n",
    "    return chunks"
   ]
  },
  {
   "cell_type": "code",
   "execution_count": 5,
   "id": "f0603b29",
   "metadata": {},
   "outputs": [
    {
     "name": "stderr",
     "output_type": "stream",
     "text": [
      "C:\\Users\\Ameya Prashant\\AppData\\Local\\Temp\\ipykernel_22888\\1381470176.py:4: LangChainDeprecationWarning: The class `HuggingFaceBgeEmbeddings` was deprecated in LangChain 0.2.2 and will be removed in 1.0. An updated version of the class exists in the :class:`~langchain-huggingface package and should be used instead. To use it run `pip install -U :class:`~langchain-huggingface` and import as `from :class:`~langchain_huggingface import HuggingFaceEmbeddings``.\n",
      "  embedding_model = HuggingFaceBgeEmbeddings(model_name=\"all-MiniLM-L6-v2\")\n",
      "C:\\Users\\Ameya Prashant\\AppData\\Roaming\\Python\\Python312\\site-packages\\tqdm\\auto.py:21: TqdmWarning: IProgress not found. Please update jupyter and ipywidgets. See https://ipywidgets.readthedocs.io/en/stable/user_install.html\n",
      "  from .autonotebook import tqdm as notebook_tqdm\n",
      "C:\\Users\\Ameya Prashant\\AppData\\Roaming\\Python\\Python312\\site-packages\\tqdm\\auto.py:21: TqdmWarning: IProgress not found. Please update jupyter and ipywidgets. See https://ipywidgets.readthedocs.io/en/stable/user_install.html\n",
      "  from .autonotebook import tqdm as notebook_tqdm\n",
      "C:\\Users\\Ameya Prashant\\AppData\\Local\\Temp\\ipykernel_22888\\1381470176.py:6: LangChainDeprecationWarning: The class `Chroma` was deprecated in LangChain 0.2.9 and will be removed in 1.0. An updated version of the class exists in the :class:`~langchain-chroma package and should be used instead. To use it run `pip install -U :class:`~langchain-chroma` and import as `from :class:`~langchain_chroma import Chroma``.\n",
      "  vectordb = Chroma(\n",
      "C:\\Users\\Ameya Prashant\\AppData\\Local\\Temp\\ipykernel_22888\\1381470176.py:6: LangChainDeprecationWarning: The class `Chroma` was deprecated in LangChain 0.2.9 and will be removed in 1.0. An updated version of the class exists in the :class:`~langchain-chroma package and should be used instead. To use it run `pip install -U :class:`~langchain-chroma` and import as `from :class:`~langchain_chroma import Chroma``.\n",
      "  vectordb = Chroma(\n"
     ]
    }
   ],
   "source": [
    "from langchain.embeddings import HuggingFaceBgeEmbeddings\n",
    "from langchain.vectorstores import Chroma\n",
    "\n",
    "embedding_model = HuggingFaceBgeEmbeddings(model_name=\"all-MiniLM-L6-v2\")\n",
    "\n",
    "vectordb = Chroma(\n",
    "    collection_name=\"brd_collection\",\n",
    "    persist_directory=\"./my_db\",\n",
    "    embedding_function=embedding_model\n",
    ")"
   ]
  },
  {
   "cell_type": "code",
   "execution_count": 6,
   "id": "258ae88d",
   "metadata": {},
   "outputs": [],
   "source": [
    "def store_to_vectordb(chunks, file_name):\n",
    "    from langchain.schema import Document\n",
    "\n",
    "    if not chunks:\n",
    "        print(\"No chunks to store\")\n",
    "        return\n",
    "\n",
    "    docs = [Document(page_content=chunk, metadata={\"source\": file_name, \"chunk_number\": i}) for i, chunk in enumerate(chunks)]\n",
    "\n",
    "    vectordb.add_documents(docs)\n",
    "    vectordb.persist()"
   ]
  },
  {
   "cell_type": "code",
   "execution_count": 7,
   "id": "415e12d5",
   "metadata": {},
   "outputs": [
    {
     "name": "stderr",
     "output_type": "stream",
     "text": [
      "C:\\Users\\Ameya Prashant\\AppData\\Local\\Temp\\ipykernel_22888\\964138910.py:11: LangChainDeprecationWarning: Since Chroma 0.4.x the manual persistence method is no longer supported as docs are automatically persisted.\n",
      "  vectordb.persist()\n"
     ]
    },
    {
     "name": "stdout",
     "output_type": "stream",
     "text": [
      "Finished processing and storing API GetEmployeeByEmail.docx\n",
      "Finished processing and storing API GetEmployeeById.docx\n",
      "Finished processing and storing Beon Form - Copy.docx\n",
      "Finished processing and storing BG Proposal cum Advance Approval Form .docx\n",
      "Finished processing and storing Beon Form - Copy.docx\n",
      "Finished processing and storing BG Proposal cum Advance Approval Form .docx\n",
      "Finished processing and storing BRD of IRIS User ID Creation Form.docx\n",
      "Finished processing and storing BRD of Request for Cancellation of Penalty Invoice.docx\n",
      "Finished processing and storing BRD of IRIS User ID Creation Form.docx\n",
      "Finished processing and storing BRD of Request for Cancellation of Penalty Invoice.docx\n",
      "Finished processing and storing BRD-Computer Tomography Part Submission form.docx\n",
      "Finished processing and storing BRD-Computer Tomography Part Submission form.docx\n",
      "Finished processing and storing BRD_Consulate Issuing Form.docx\n",
      "Finished processing and storing BRD_Invitation Letter Form.docx\n",
      "Finished processing and storing BRD_Consulate Issuing Form.docx\n",
      "Finished processing and storing BRD_Invitation Letter Form.docx\n",
      "Finished processing and storing BRD_Scrap Approval Form.docx\n",
      "Finished processing and storing BRD_Scrap Waste Reuse Request Form.docx\n",
      "Finished processing and storing BRD_Scrap Approval Form.docx\n",
      "Finished processing and storing BRD_Scrap Waste Reuse Request Form.docx\n",
      "Finished processing and storing CR- Trade Plate Requisition Form .docx\n",
      "Finished processing and storing CRATER TEST Form.docx\n",
      "Finished processing and storing CR- Trade Plate Requisition Form .docx\n",
      "Finished processing and storing CRATER TEST Form.docx\n",
      "Finished processing and storing DIP User ID Creation form.docx\n",
      "No chunks to store\n",
      "Finished processing and storing E-Forms End User Communication Mail.docx\n",
      "Finished processing and storing DIP User ID Creation form.docx\n",
      "No chunks to store\n",
      "Finished processing and storing E-Forms End User Communication Mail.docx\n",
      "Finished processing and storing IRIS Form.docx\n",
      "Finished processing and storing IRIS Form.docx\n",
      "Finished processing and storing IT Asset new logic for 4eye approvers.docx\n",
      "Finished processing and storing IT Asset new logic for 4eye approvers.docx\n",
      "Finished processing and storing MOM of HR Form Discussion.docx\n",
      "Finished processing and storing MOM of HR Form Discussion.docx\n",
      "Finished processing and storing Pilot Hall Overtime Pre-Approval Form.docx\n",
      "Finished processing and storing Project Change Request_Consulate_Form.docx\n",
      "Finished processing and storing Pilot Hall Overtime Pre-Approval Form.docx\n",
      "Finished processing and storing Project Change Request_Consulate_Form.docx\n",
      "Finished processing and storing SAP User ID Role Authorization Form.docx\n",
      "Finished processing and storing SAP User ID Role Authorization Form.docx\n",
      "Finished processing and storing Trade Plate Requisition Form.docx\n",
      "Finished processing and storing Understanding Doc - Beon_Tevon.docx\n",
      "Finished processing and storing Trade Plate Requisition Form.docx\n",
      "Finished processing and storing Understanding Doc - Beon_Tevon.docx\n",
      "Finished processing and storing Understanding DOC SAP User ID Creation.docx\n",
      "Finished processing and storing Understanding of Material Tech Part Submission.docx\n",
      "Finished processing and storing Understanding DOC SAP User ID Creation.docx\n",
      "Finished processing and storing Understanding of Material Tech Part Submission.docx\n",
      "Finished processing and storing Updated_Understanding DOC SAP User ID Creation.docx\n",
      "Finished processing and storing Vendor Payment Voucher.docx\n",
      "Finished processing and storing Updated_Understanding DOC SAP User ID Creation.docx\n",
      "Finished processing and storing Vendor Payment Voucher.docx\n"
     ]
    }
   ],
   "source": [
    "# using the above code on all the files\n",
    "folder_path = \"./all_files\"\n",
    "files = os.listdir(folder_path)\n",
    "\n",
    "for file in files:\n",
    "    file_path = rf\"{folder_path}/{file}\"\n",
    "    if file_path.endswith(\".pdf\") or file_path.endswith(\"docx\"):\n",
    "        chunks = get_chunks(file_path)\n",
    "        save_chunks_to_file(file_path, file)\n",
    "        store_to_vectordb(chunks, file)\n",
    "    print(f\"Finished processing and storing {file}\")\n",
    "    "
   ]
  },
  {
   "cell_type": "code",
   "execution_count": 8,
   "id": "3535ce76",
   "metadata": {},
   "outputs": [
    {
     "data": {
      "text/plain": [
       "'\\nthe above line creates a retriever object from the vectordb.\\nit returns the top5 most relevant chunks\\n'"
      ]
     },
     "execution_count": 8,
     "metadata": {},
     "output_type": "execute_result"
    }
   ],
   "source": [
    "retriever = vectordb.as_retriever(search_kwargs={\"k\":5})\n",
    "\n",
    "'''\n",
    "the above line creates a retriever object from the vectordb.\n",
    "it returns the top5 most relevant chunks\n",
    "'''"
   ]
  },
  {
   "cell_type": "code",
   "execution_count": 14,
   "id": "816ed7d6",
   "metadata": {},
   "outputs": [],
   "source": [
    "# creating RAG chain using HuggingFaceHub \n",
    "from langchain.llms import Ollama\n",
    "from langchain.chains import RetrievalQA\n",
    "import os\n",
    "\n",
    "llm = Ollama(model=\"mistral\")\n",
    "qa_chain = RetrievalQA.from_chain_type(llm=llm, retriever=retriever)"
   ]
  },
  {
   "cell_type": "code",
   "execution_count": null,
   "id": "b3075b69",
   "metadata": {},
   "outputs": [],
   "source": [
    "def handle_queries(query):\n",
    "    try:\n",
    "        return qa_chain.invoke(query)\n",
    "    except Exception as e:\n",
    "        print(\"Error:\", e)"
   ]
  },
  {
   "cell_type": "code",
   "execution_count": 16,
   "id": "1f1616a2",
   "metadata": {},
   "outputs": [
    {
     "name": "stdout",
     "output_type": "stream",
     "text": [
      " The Action for Compliance Cell is to Select name of signature authority and it will print in final PDF with his details mention in Information document.\n",
      "-------------------------------------------------------------------------------------------\n"
     ]
    }
   ],
   "source": [
    "result = handle_queries(\"what is the action for compliance cell?\")\n",
    "print(result[\"result\"])\n",
    "print(\"-------------------------------------------------------------------------------------------\")"
   ]
  },
  {
   "cell_type": "code",
   "execution_count": 12,
   "id": "245c1e4f",
   "metadata": {},
   "outputs": [],
   "source": [
    "# List of sample queries to test the RAG pipeline\n",
    "queries = [\n",
    "    \"What is the process for IRIS User ID creation?\",\n",
    "    \"Describe the steps for Amazon RDS to Snowflake data migration.\",\n",
    "    \"What is the approval workflow for the Scrap Approval Form?\",\n",
    "    \"How to request cancellation of a penalty invoice?\",\n",
    "    \"What are the requirements for Vendor Payment Voucher?\",\n",
    "    \"Explain the role authorization process for SAP User ID.\",\n",
    "    \"What is the function of the Consulate Issuing Form?\",\n",
    "    \"How to submit a Computer Tomography Part Submission form?\"\n",
    "]"
   ]
  },
  {
   "cell_type": "code",
   "execution_count": 17,
   "id": "16f34f93",
   "metadata": {},
   "outputs": [
    {
     "name": "stdout",
     "output_type": "stream",
     "text": [
      "\n",
      "Query 1: What is the process for IRIS User ID creation?\n",
      "Answer:  The process for creating an IRIS (Integrated Review and Approval System) User ID appears to be a repetition of the form title. However, without additional context or details about the specific form fields, I cannot provide the exact step-by-step process. It is recommended that you refer to the instructions provided alongside the form for accurate information on how to create an IRIS User ID.\n",
      "\n",
      "Query 2: Describe the steps for Amazon RDS to Snowflake data migration.\n",
      "Answer:  The process for creating an IRIS (Integrated Review and Approval System) User ID appears to be a repetition of the form title. However, without additional context or details about the specific form fields, I cannot provide the exact step-by-step process. It is recommended that you refer to the instructions provided alongside the form for accurate information on how to create an IRIS User ID.\n",
      "\n",
      "Query 2: Describe the steps for Amazon RDS to Snowflake data migration.\n",
      "Answer:  To migrate data from Amazon RDS (Relational Database Service) to Snowflake, you can follow these general steps:\n",
      "\n",
      "1. **Preparation**: Ensure that your source and target databases are properly set up and optimized for the migration process. This might involve creating backup copies of the databases, optimizing tables, and setting appropriate permissions.\n",
      "\n",
      "2. **Schema Mapping**: Analyze the structure (schema) of both the RDS database and Snowflake schema to ensure compatibility. You may need to modify table names, column names, data types, or other properties to match between the two systems.\n",
      "\n",
      "3. **Data Export**: Use a tool or script to export the data from your Amazon RDS instance in an appropriate format (such as CSV, JSON, or SQL). This step might be done through the AWS Database Migration Service (DMS) or custom scripts written in languages like Python, Perl, or Bash.\n",
      "\n",
      "4. **Data Load**: Import or load the exported data into Snowflake using the appropriate command-line tool (e.g., `sqlloader`) or Snowflake's data loading features. Be sure to create the necessary tables and structure in your target Snowflake database before attempting to load the data.\n",
      "\n",
      "5. **Data Validation**: After loading the data, perform checks to ensure that the data has been correctly imported into Snowflake and is consistent with what was exported from Amazon RDS. This might involve querying the data, using data validation tools, or comparing sample subsets of the data.\n",
      "\n",
      "6. **Post-Migration Steps**: Finally, once the migration is complete, you may need to perform post-migration tasks such as optimizing your Snowflake database for performance, adjusting connections and permissions, or monitoring the system to ensure that it's running smoothly.\n",
      "\n",
      "Query 3: What is the approval workflow for the Scrap Approval Form?\n",
      "Answer:  The approval workflow for the Scrap Approval Form consists of 3 out of 4 levels of approval. This means that the request needs to be approved by three different individuals or departments before it can be processed. It should be noted that only employees with a valid Skoda-VW email address are allowed to use and submit this form.\n",
      "\n",
      "Query 4: How to request cancellation of a penalty invoice?\n",
      "Answer:  To request cancellation of a penalty invoice, you can submit a \"Request form for Cancellation of the Penalty Invoice raised on Vendor.\" This is suggested based on the context provided.\n",
      "\n",
      "Query 5: What are the requirements for Vendor Payment Voucher?\n",
      "Answer:  The requirements for a Vendor Payment Voucher include:\n",
      "\n",
      "1. Purpose: The form is used when payment of any invoice needs to process without a purchase order.\n",
      "2. Users: Anyone can use this form.\n",
      "3. Usage Restrictions: Only employees with a valid Skoda-VW email ID are allowed to use the form.\n",
      "4. Transactional Fields: The transaction section of the form contains various fields specific to the invoice details.\n",
      "5. Additional Note: If the shopping cart field is enabled and the total amount exceeds 2500, a note reminds the user to attach the Shopping Cart before submitting the form.\n",
      "\n",
      "Query 6: Explain the role authorization process for SAP User ID.\n",
      "Answer:  Based on the provided context, it appears that the role authorization process for SAP User ID is not explicitly explained as we are only focusing on the development of the User ID Creation form and not the Role Authorization form. However, I can provide some general insights about the role authorization process in SAP systems:\n",
      "\n",
      "In SAP systems, roles are used to define a set of authorized transactions, menus, programs, or even screens that users can access. Each role consists of a unique combination of authorizations (authorization objects). When a user logs into the system, they are assigned specific roles based on their job responsibilities and security requirements.\n",
      "\n",
      "The Role Authorization Form in the SAP User ID Creation form might be used to assign appropriate roles to the new or replaced user account. This process involves defining the necessary roles and assigning the appropriate authorizations within those roles for the specific tasks that the user needs to perform in the SAP system.\n",
      "\n",
      "For more detailed information about role authorization processes, it is recommended to refer to official SAP documentation or consult with an experienced SAP professional familiar with your organization's processes and settings.\n",
      "\n",
      "Query 7: What is the function of the Consulate Issuing Form?\n",
      "Answer:  The Consulate Issuing Form, as indicated by its repeated mention in your context, appears to serve as a document used for official communications or requests made at a consulate. However, without additional information about the specific purpose or contents of this form within the provided context, I can't provide a more precise function of the Consulate Issuing Form.\n",
      "\n",
      "Query 8: How to submit a Computer Tomography Part Submission form?\n",
      "Answer:  To submit a Computer Tomography Part Submission form, you typically would follow these steps:\n",
      "\n",
      "1. Fill out all the required fields in the form with accurate and complete information. This may include patient details, medical history, scan specifications, etc.\n",
      "\n",
      "2. Attach any necessary supporting documents, such as images or reports related to the Computer Tomography (CT) part you are submitting.\n",
      "\n",
      "3. Review the completed form carefully for accuracy and completeness.\n",
      "\n",
      "4. Submit the form either electronically, via an online portal if one is available, or in-person, depending on the instructions provided by the recipient.\n",
      "\n",
      "5. Keep a copy of the submitted form and any related documents for your records.\n"
     ]
    }
   ],
   "source": [
    "# Run each query and print the results\n",
    "for idx, query in enumerate(queries, 1):\n",
    "    print(f\"\\nQuery {idx}: {query}\")\n",
    "    result = handle_queries(query)\n",
    "    if result:\n",
    "        print(f\"Answer: {result[\"result\"]}\")\n",
    "    else:\n",
    "        print(\"No relevant documents found.\")"
   ]
  }
 ],
 "metadata": {
  "kernelspec": {
   "display_name": "Python 3",
   "language": "python",
   "name": "python3"
  },
  "language_info": {
   "codemirror_mode": {
    "name": "ipython",
    "version": 3
   },
   "file_extension": ".py",
   "mimetype": "text/x-python",
   "name": "python",
   "nbconvert_exporter": "python",
   "pygments_lexer": "ipython3",
   "version": "3.12.6"
  }
 },
 "nbformat": 4,
 "nbformat_minor": 5
}
