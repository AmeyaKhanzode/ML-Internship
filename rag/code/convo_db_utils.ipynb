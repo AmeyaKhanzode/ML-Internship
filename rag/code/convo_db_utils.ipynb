{
 "cells": [
  {
   "cell_type": "code",
   "execution_count": null,
   "id": "f36c6283",
   "metadata": {},
   "outputs": [
    {
     "name": "stdout",
     "output_type": "stream",
     "text": [
      "Connection established\n",
      "Connected to the database successfully\n",
      "Database initialized successfully\n",
      "Connection established\n",
      "Connected to the convo database successfully\n"
     ]
    },
    {
     "name": "stderr",
     "output_type": "stream",
     "text": [
      "[nltk_data] Error loading averaged_perceptron_tagger_eng: <urlopen\n",
      "[nltk_data]     error [SSL: CERTIFICATE_VERIFY_FAILED] certificate\n",
      "[nltk_data]     verify failed: unable to get local issuer certificate\n",
      "[nltk_data]     (_ssl.c:1028)>\n",
      "[nltk_data] Error loading punkt_tab: <urlopen error [SSL:\n",
      "[nltk_data]     CERTIFICATE_VERIFY_FAILED] certificate verify failed:\n",
      "[nltk_data]     unable to get local issuer certificate (_ssl.c:1028)>\n"
     ]
    }
   ],
   "source": [
    "import psycopg2 as db\n",
    "from uuid import uuid4\n",
    "import hashlib\n",
    "import importnb\n",
    "\n",
    "with importnb.Notebook():\n",
    "    import rag\n",
    "\n",
    "def get_connection():\n",
    "    conn = db.connect(\n",
    "        host=\"localhost\",\n",
    "        database=\"metadata\",\n",
    "        user=\"postgres\",\n",
    "        password=\"khanzode\"\n",
    "    )\n",
    "    print(\"Connection established\")\n",
    "    return conn\n",
    "\n",
    "conn = get_connection()\n",
    "cur = conn.cursor()"
   ]
  },
  {
   "cell_type": "code",
   "execution_count": null,
   "id": "3bafd3df",
   "metadata": {},
   "outputs": [],
   "source": [
    "def init_db():\n",
    "    cur.execute(\"\"\"\n",
    "        CREATE TABLE IF NOT EXISTS query_feedback_logs (\n",
    "            id SERIAL PRIMARY KEY,\n",
    "            query TEXT,\n",
    "            response TEXT,\n",
    "            response_id TEXT,\n",
    "            feedback TEXT DEFAULT 'None',\n",
    "            bad_feedback_reason TEXT DEFAULT 'None',\n",
    "            session_id TEXT,\n",
    "            query_timestamp TIMESTAMP DEFAULT CURRENT_TIMESTAMP\n",
    "        )\n",
    "    \"\"\")\n",
    "    conn.commit()\n",
    "    print(\"Convo table initialized successfully\")"
   ]
  },
  {
   "cell_type": "code",
   "execution_count": null,
   "id": "359740c7",
   "metadata": {},
   "outputs": [],
   "source": [
    "def add_entry(entry):\n",
    "    print(\"-\"*100)\n",
    "    cur.execute(\"\"\"\n",
    "        INSERT INTO query_feedback_logs (query, response, response_id, session_id)\n",
    "        VALUES (%s, %s, %s, %s)\n",
    "        RETURNING id\n",
    "    \"\"\", (entry[\"query\"], entry[\"response\"], entry[\"response_id\"], entry[\"session_id\"]))\n",
    "    \n",
    "    query_id = cur.fetchone()[0]\n",
    "    conn.commit()\n",
    "    print(f\"Inserted query-response in db with ID: {query_id}\")\n",
    "    print(\"-\"*100)\n",
    "    return query_id\n",
    "\n",
    "def update_feedback(response_id, thumb_sign, reason):\n",
    "    print(\"-\"*100)\n",
    "    if thumb_sign == \"down\":\n",
    "        feedback = \"Bad\"\n",
    "    elif thumb_sign == \"up\":\n",
    "        feedback = \"Good\"\n",
    "    else:\n",
    "        feedback = \"None\"\n",
    "    \n",
    "    cur.execute(\"\"\"\n",
    "        UPDATE query_feedback_logs \n",
    "        SET feedback = %s, bad_feedback_reason = %s\n",
    "        WHERE response_id = %s\n",
    "    \"\"\", (feedback, reason, response_id))\n",
    "    \n",
    "    conn.commit()\n",
    "    print(f\"Feedback updated for query ID: {response_id}\")\n",
    "    print(\"-\"*100)\n",
    "    print(f\"Feedback updated for query ID: {response_id}\")\n",
    "    print(\"-\"*100)\n"
   ]
  },
  {
   "cell_type": "code",
   "execution_count": null,
   "id": "be46246b",
   "metadata": {},
   "outputs": [],
   "source": [
    "def get_bad_query_response():\n",
    "    cur.execute(\"SELECT id, query, response, response_id, feedback, session_id, query_timestamp FROM query_feedback_logs WHERE feedback = 'Bad'\")\n",
    "    bad_qrs = cur.fetchall()\n",
    "    \n",
    "    # Convert tuples to dictionaries for easier access\n",
    "    result = []\n",
    "    for row in bad_qrs:\n",
    "        result.append({\n",
    "            \"id\": row[0],\n",
    "            \"query\": row[1],\n",
    "            \"response\": row[2],\n",
    "            \"response_id\": row[3],\n",
    "            \"feedback\": row[4],\n",
    "            \"session_id\": row[5],\n",
    "            \"query_timestamp\": row[6]\n",
    "        })\n",
    "    \n",
    "    return result"
   ]
  },
  {
   "cell_type": "code",
   "execution_count": null,
   "id": "c0bf0050",
   "metadata": {},
   "outputs": [],
   "source": [
    "def get_thumbs_down_query(response_id):\n",
    "    cur.execute(\"SELECT query, response, bad_feedback_reason from query_feedback_logs WHERE response_id = %s\", (response_id,))\n",
    "    return cur.fetchone()"
   ]
  }
 ],
 "metadata": {
  "kernelspec": {
   "display_name": "Python 3",
   "language": "python",
   "name": "python3"
  },
  "language_info": {
   "codemirror_mode": {
    "name": "ipython",
    "version": 3
   },
   "file_extension": ".py",
   "mimetype": "text/x-python",
   "name": "python",
   "nbconvert_exporter": "python",
   "pygments_lexer": "ipython3",
   "version": "3.13.5"
  }
 },
 "nbformat": 4,
 "nbformat_minor": 5
}
